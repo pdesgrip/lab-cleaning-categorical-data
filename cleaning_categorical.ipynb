{
 "cells": [
  {
   "cell_type": "code",
   "execution_count": 1,
   "id": "d5b3f2e6",
   "metadata": {
    "ExecuteTime": {
     "end_time": "2023-10-23T09:36:17.388961Z",
     "start_time": "2023-10-23T09:36:09.388548Z"
    }
   },
   "outputs": [],
   "source": [
    "import pandas as pd\n",
    "import seaborn as sns\n",
    "import matplotlib.pyplot as plt\n",
    "import numpy as np"
   ]
  },
  {
   "cell_type": "code",
   "execution_count": 2,
   "id": "f36f285a",
   "metadata": {
    "ExecuteTime": {
     "end_time": "2023-10-23T09:36:17.484660Z",
     "start_time": "2023-10-23T09:36:17.391907Z"
    }
   },
   "outputs": [
    {
     "data": {
      "text/plain": [
       "<bound method NDFrame.head of      Customer       State  Customer Lifetime Value Response  Coverage  \\\n",
       "0     BU79786  Washington              2763.519279       No     Basic   \n",
       "1     QZ44356     Arizona              6979.535903       No  Extended   \n",
       "2     AI49188      Nevada             12887.431650       No   Premium   \n",
       "3     WW63253  California              7645.861827       No     Basic   \n",
       "4     HB64268  Washington              2813.692575       No     Basic   \n",
       "...       ...         ...                      ...      ...       ...   \n",
       "9129  LA72316  California             23405.987980       No     Basic   \n",
       "9130  PK87824  California              3096.511217      Yes  Extended   \n",
       "9131  TD14365  California              8163.890428       No  Extended   \n",
       "9132  UP19263  California              7524.442436       No  Extended   \n",
       "9133  Y167826  California              2611.836866       No  Extended   \n",
       "\n",
       "     Education Effective To Date EmploymentStatus Gender  Income  ...  \\\n",
       "0     Bachelor           2/24/11         Employed      F   56274  ...   \n",
       "1     Bachelor           1/31/11       Unemployed      F       0  ...   \n",
       "2     Bachelor           2/19/11         Employed      F   48767  ...   \n",
       "3     Bachelor           1/20/11       Unemployed      M       0  ...   \n",
       "4     Bachelor            2/3/11         Employed      M   43836  ...   \n",
       "...        ...               ...              ...    ...     ...  ...   \n",
       "9129  Bachelor           2/10/11         Employed      M   71941  ...   \n",
       "9130   College           2/12/11         Employed      F   21604  ...   \n",
       "9131  Bachelor            2/6/11       Unemployed      M       0  ...   \n",
       "9132   College            2/3/11         Employed      M   21941  ...   \n",
       "9133   College           2/14/11       Unemployed      M       0  ...   \n",
       "\n",
       "     Months Since Policy Inception Number of Open Complaints  \\\n",
       "0                                5                         0   \n",
       "1                               42                         0   \n",
       "2                               38                         0   \n",
       "3                               65                         0   \n",
       "4                               44                         0   \n",
       "...                            ...                       ...   \n",
       "9129                            89                         0   \n",
       "9130                            28                         0   \n",
       "9131                            37                         3   \n",
       "9132                             3                         0   \n",
       "9133                            90                         0   \n",
       "\n",
       "      Number of Policies     Policy Type        Policy  Renew Offer Type  \\\n",
       "0                      1  Corporate Auto  Corporate L3            Offer1   \n",
       "1                      8   Personal Auto   Personal L3            Offer3   \n",
       "2                      2   Personal Auto   Personal L3            Offer1   \n",
       "3                      7  Corporate Auto  Corporate L2            Offer1   \n",
       "4                      1   Personal Auto   Personal L1            Offer1   \n",
       "...                  ...             ...           ...               ...   \n",
       "9129                   2   Personal Auto   Personal L1            Offer2   \n",
       "9130                   1  Corporate Auto  Corporate L3            Offer1   \n",
       "9131                   2  Corporate Auto  Corporate L2            Offer1   \n",
       "9132                   3   Personal Auto   Personal L2            Offer3   \n",
       "9133                   1  Corporate Auto  Corporate L3            Offer4   \n",
       "\n",
       "      Sales Channel Total Claim Amount  Vehicle Class Vehicle Size  \n",
       "0             Agent         384.811147   Two-Door Car      Medsize  \n",
       "1             Agent        1131.464935  Four-Door Car      Medsize  \n",
       "2             Agent         566.472247   Two-Door Car      Medsize  \n",
       "3       Call Center         529.881344            SUV      Medsize  \n",
       "4             Agent         138.130879  Four-Door Car      Medsize  \n",
       "...             ...                ...            ...          ...  \n",
       "9129            Web         198.234764  Four-Door Car      Medsize  \n",
       "9130         Branch         379.200000  Four-Door Car      Medsize  \n",
       "9131         Branch         790.784983  Four-Door Car      Medsize  \n",
       "9132         Branch         691.200000  Four-Door Car        Large  \n",
       "9133    Call Center         369.600000   Two-Door Car      Medsize  \n",
       "\n",
       "[9134 rows x 24 columns]>"
      ]
     },
     "metadata": {},
     "output_type": "display_data"
    }
   ],
   "source": [
    "# read the data\n",
    "data = pd.read_csv(\"customer_value_analysis.csv\")\n",
    "display(data.head)"
   ]
  },
  {
   "cell_type": "code",
   "execution_count": null,
   "id": "cdb7e66d",
   "metadata": {
    "ExecuteTime": {
     "end_time": "2023-10-22T20:48:18.485450Z",
     "start_time": "2023-10-22T20:46:46.427199Z"
    },
    "scrolled": true
   },
   "outputs": [],
   "source": [
    "# define function to create countplot for each categorical column\n",
    "\n",
    "def categorical_plot(dataframe):\n",
    "    \"\"\"plots categorical columns in a dataframe\n",
    "        input: dataframe\n",
    "        output seaborn countplot\"\"\"\n",
    "    for column in dataframe.select_dtypes('object').columns:\n",
    "        order = dataframe[column].value_counts().index\n",
    "        if dataframe[column].nunique() >=6:\n",
    "            sns.countplot(data=dataframe, y=column, order = order)\n",
    "        else: sns.countplot(data=dataframe, x = column, order = order)\n",
    "        plt.show()\n",
    "        \n",
    "categorical_plot(data)\n",
    "        "
   ]
  },
  {
   "cell_type": "code",
   "execution_count": 3,
   "id": "31b13431",
   "metadata": {
    "ExecuteTime": {
     "end_time": "2023-10-23T09:36:25.060346Z",
     "start_time": "2023-10-23T09:36:25.053502Z"
    },
    "scrolled": true
   },
   "outputs": [
    {
     "name": "stdout",
     "output_type": "stream",
     "text": [
      "Index(['Customer', 'State', 'Customer Lifetime Value', 'Response', 'Coverage',\n",
      "       'Education', 'Effective To Date', 'EmploymentStatus', 'Gender',\n",
      "       'Income', 'Location Code', 'Marital Status', 'Monthly Premium Auto',\n",
      "       'Months Since Last Claim', 'Months Since Policy Inception',\n",
      "       'Number of Open Complaints', 'Number of Policies', 'Policy Type',\n",
      "       'Policy', 'Renew Offer Type', 'Sales Channel', 'Total Claim Amount',\n",
      "       'Vehicle Class', 'Vehicle Size'],\n",
      "      dtype='object')\n"
     ]
    }
   ],
   "source": [
    "print(data.columns)"
   ]
  },
  {
   "cell_type": "code",
   "execution_count": null,
   "id": "89284469",
   "metadata": {
    "ExecuteTime": {
     "end_time": "2023-10-23T09:31:32.259824Z",
     "start_time": "2023-10-23T09:31:32.254270Z"
    }
   },
   "outputs": [],
   "source": [
    "\n"
   ]
  },
  {
   "cell_type": "code",
   "execution_count": 4,
   "id": "56b53b5b",
   "metadata": {
    "ExecuteTime": {
     "end_time": "2023-10-23T09:36:28.362692Z",
     "start_time": "2023-10-23T09:36:28.355299Z"
    }
   },
   "outputs": [],
   "source": [
    "# drop and transform columns\n",
    "data.drop(columns=['Policy Type'], inplace=True)\n"
   ]
  },
  {
   "cell_type": "code",
   "execution_count": 5,
   "id": "e7d6bb4c",
   "metadata": {
    "ExecuteTime": {
     "end_time": "2023-10-23T09:36:30.270491Z",
     "start_time": "2023-10-23T09:36:30.265688Z"
    }
   },
   "outputs": [
    {
     "name": "stdout",
     "output_type": "stream",
     "text": [
      "['Corporate L3' 'Personal L3' 'Corporate L2' 'Personal L1' 'Special L2'\n",
      " 'Corporate L1' 'Personal L2' 'Special L1' 'Special L3']\n"
     ]
    }
   ],
   "source": [
    "# inspecting the unique values\n",
    "unique_values = data['Policy'].unique()\n",
    "print(unique_values)"
   ]
  },
  {
   "cell_type": "code",
   "execution_count": 6,
   "id": "04a785dc",
   "metadata": {
    "ExecuteTime": {
     "end_time": "2023-10-23T09:36:34.562865Z",
     "start_time": "2023-10-23T09:36:34.551067Z"
    }
   },
   "outputs": [],
   "source": [
    "# function to \n",
    "def transform_policy(value):\n",
    "    if 'L1' in value:\n",
    "        return 'L1'\n",
    "    elif 'L2' in value:\n",
    "        return 'L2'\n",
    "    else:\n",
    "        return 'L3'\n",
    "data['Policy'] = data['Policy'].apply(transform_policy)"
   ]
  },
  {
   "cell_type": "code",
   "execution_count": 7,
   "id": "25bab6ec",
   "metadata": {
    "ExecuteTime": {
     "end_time": "2023-10-23T09:37:11.427925Z",
     "start_time": "2023-10-23T09:37:11.423320Z"
    }
   },
   "outputs": [
    {
     "name": "stdout",
     "output_type": "stream",
     "text": [
      "['L3' 'L2' 'L1']\n"
     ]
    }
   ],
   "source": [
    "#checking after the function was applied\n",
    "unique_values = data['Policy'].unique()\n",
    "print(unique_values)"
   ]
  },
  {
   "cell_type": "code",
   "execution_count": null,
   "id": "8904096b",
   "metadata": {},
   "outputs": [],
   "source": []
  },
  {
   "cell_type": "code",
   "execution_count": null,
   "id": "138f151c",
   "metadata": {},
   "outputs": [],
   "source": []
  }
 ],
 "metadata": {
  "kernelspec": {
   "display_name": "Python 3 (ipykernel)",
   "language": "python",
   "name": "python3"
  },
  "language_info": {
   "codemirror_mode": {
    "name": "ipython",
    "version": 3
   },
   "file_extension": ".py",
   "mimetype": "text/x-python",
   "name": "python",
   "nbconvert_exporter": "python",
   "pygments_lexer": "ipython3",
   "version": "3.11.4"
  }
 },
 "nbformat": 4,
 "nbformat_minor": 5
}
