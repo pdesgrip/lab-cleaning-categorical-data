{
 "cells": [
  {
   "cell_type": "code",
   "execution_count": null,
   "id": "d5b3f2e6",
   "metadata": {
    "ExecuteTime": {
     "end_time": "2023-10-24T19:44:04.417670Z",
     "start_time": "2023-10-24T19:43:58.606184Z"
    }
   },
   "outputs": [],
   "source": [
    "import pandas as pd\n",
    "import seaborn as sns\n",
    "import matplotlib.pyplot as plt\n",
    "import numpy as np"
   ]
  },
  {
   "cell_type": "code",
   "execution_count": null,
   "id": "f36f285a",
   "metadata": {
    "ExecuteTime": {
     "end_time": "2023-10-24T19:44:04.486075Z",
     "start_time": "2023-10-24T19:44:04.419670Z"
    }
   },
   "outputs": [],
   "source": [
    "# read the data\n",
    "data = pd.read_csv(\"customer_value_analysis.csv\")\n",
    "display(data.head)"
   ]
  },
  {
   "cell_type": "code",
   "execution_count": null,
   "id": "8373d3fd",
   "metadata": {
    "ExecuteTime": {
     "end_time": "2023-10-24T19:45:40.224880Z",
     "start_time": "2023-10-24T19:44:04.488068Z"
    },
    "scrolled": true
   },
   "outputs": [],
   "source": [
    "# define function to create countplot for each categorical column\n",
    "\n",
    "def categorical_plot(dataframe):\n",
    "    \"\"\"plots categorical columns in a dataframe\n",
    "        input: dataframe\n",
    "        output seaborn countplot\"\"\"\n",
    "    for column in dataframe.select_dtypes('object').columns:\n",
    "        order = dataframe[column].value_counts().index\n",
    "        if dataframe[column].nunique() >=6:\n",
    "            sns.countplot(data=dataframe, y=column, order = order)\n",
    "        else: sns.countplot(data=dataframe, x = column, order = order)\n",
    "        plt.show()\n",
    "        \n",
    "categorical_plot(data)\n",
    "        "
   ]
  },
  {
   "cell_type": "code",
   "execution_count": null,
   "id": "826e70ab",
   "metadata": {
    "ExecuteTime": {
     "end_time": "2023-10-24T19:45:40.239841Z",
     "start_time": "2023-10-24T19:45:40.227870Z"
    },
    "scrolled": true
   },
   "outputs": [],
   "source": [
    "print(data.columns)"
   ]
  },
  {
   "cell_type": "code",
   "execution_count": null,
   "id": "5be65466",
   "metadata": {
    "ExecuteTime": {
     "end_time": "2023-10-23T09:31:32.259824Z",
     "start_time": "2023-10-23T09:31:32.254270Z"
    }
   },
   "outputs": [],
   "source": [
    "\n"
   ]
  },
  {
   "cell_type": "code",
   "execution_count": null,
   "id": "56b53b5b",
   "metadata": {
    "ExecuteTime": {
     "end_time": "2023-10-24T19:45:40.285292Z",
     "start_time": "2023-10-24T19:45:40.244826Z"
    }
   },
   "outputs": [],
   "source": [
    "# drop and transform columns\n",
    "data.drop(columns=['Policy Type'], inplace=True)\n"
   ]
  },
  {
   "cell_type": "code",
   "execution_count": null,
   "id": "941ee3ed",
   "metadata": {
    "ExecuteTime": {
     "end_time": "2023-10-24T19:45:40.300255Z",
     "start_time": "2023-10-24T19:45:40.288282Z"
    }
   },
   "outputs": [],
   "source": [
    "# inspecting the unique values\n",
    "unique_values = data['Policy'].unique()\n",
    "print(unique_values)"
   ]
  },
  {
   "cell_type": "code",
   "execution_count": null,
   "id": "04a785dc",
   "metadata": {
    "ExecuteTime": {
     "end_time": "2023-10-24T19:45:40.323686Z",
     "start_time": "2023-10-24T19:45:40.303243Z"
    }
   },
   "outputs": [],
   "source": [
    "# function to transform values in Policy\n",
    "def transform_policy(value):\n",
    "    if 'L1' in value:\n",
    "        return 'L1'\n",
    "    elif 'L2' in value:\n",
    "        return 'L2'\n",
    "    else:\n",
    "        return 'L3'\n",
    "data['Policy'] = data['Policy'].apply(transform_policy)"
   ]
  },
  {
   "cell_type": "code",
   "execution_count": null,
   "id": "25bab6ec",
   "metadata": {
    "ExecuteTime": {
     "end_time": "2023-10-24T19:45:40.336310Z",
     "start_time": "2023-10-24T19:45:40.327670Z"
    }
   },
   "outputs": [],
   "source": [
    "#checking after the function was applied\n",
    "unique_values = data['Policy'].unique()\n",
    "print(unique_values)"
   ]
  },
  {
   "cell_type": "code",
   "execution_count": null,
   "id": "8904096b",
   "metadata": {
    "ExecuteTime": {
     "end_time": "2023-10-24T19:45:42.382546Z",
     "start_time": "2023-10-24T19:45:40.339300Z"
    }
   },
   "outputs": [],
   "source": [
    "# plot the time series\n",
    "plt.figure(figsize=(10,10))\n",
    "data['Effective To Date'] = pd.to_datetime(data['Effective To Date'])\n",
    "sns.lineplot(data=data, x='Effective To Date', y='Total Claim Amount')\n",
    "plt.show()"
   ]
  },
  {
   "cell_type": "code",
   "execution_count": null,
   "id": "138f151c",
   "metadata": {
    "ExecuteTime": {
     "end_time": "2023-10-24T19:45:42.417910Z",
     "start_time": "2023-10-24T19:45:42.384543Z"
    }
   },
   "outputs": [],
   "source": [
    "# analysis of effective_to_date\n",
    "time_df = pd.DataFrame()\n",
    "time_df['day'] = data['Effective To Date'].dt.day\n",
    "time_df['day_name'] = data['Effective To Date'].dt.day_name()\n",
    "time_df['week'] = data['Effective To Date'].dt.week\n",
    "time_df['month'] = data['Effective To Date'].dt.month_name()\n",
    "time_df['total_claim_amount'] = data['Total Claim Amount']\n",
    "\n",
    "time_df.head()"
   ]
  },
  {
   "cell_type": "code",
   "execution_count": null,
   "id": "f55dad79",
   "metadata": {
    "ExecuteTime": {
     "end_time": "2023-10-24T19:45:42.591406Z",
     "start_time": "2023-10-24T19:45:42.419909Z"
    }
   },
   "outputs": [],
   "source": [
    "# analysis by day\n",
    "correct_days_order = ['Monday', 'Tuesday', 'Wednesday', 'Thursday', 'Friday', 'Saturday', 'Sunday']\n",
    "day_analysis = time_df.groupby('day_name').total_claim_amount.mean().round(2).reindex(correct_days_order)\n",
    "sns.lineplot(x=day_analysis.index, y=day_analysis.values)\n",
    "plt.show()\n"
   ]
  },
  {
   "cell_type": "code",
   "execution_count": null,
   "id": "dd5e7a3c",
   "metadata": {},
   "outputs": [],
   "source": []
  },
  {
   "cell_type": "code",
   "execution_count": null,
   "id": "d6204b01",
   "metadata": {
    "ExecuteTime": {
     "end_time": "2023-10-24T19:45:42.756137Z",
     "start_time": "2023-10-24T19:45:42.593404Z"
    }
   },
   "outputs": [],
   "source": [
    "# claims by day name\n",
    "claims_by_day = time_df['day_name'].value_counts().reindex(correct_days_order)\n",
    "print(claims_by_day)\n",
    "\n",
    "# median tgt by day\n",
    "median_target_by_day = time_df.groupby('day_name').total_claim_amount.median().sort_values(ascending=False)\n",
    "sns.barplot(x=median_target_by_day.index, y=median_target_by_day.values)\n",
    "plt.show()\n",
    "\n",
    "# total claims by dau\n",
    "claims_by_day = time_df['day_name'].value_counts().reindex(correct_days_order)\n",
    "print(claims_by_day)\n",
    "\n",
    "\n",
    "\n"
   ]
  },
  {
   "cell_type": "code",
   "execution_count": null,
   "id": "526986c0",
   "metadata": {},
   "outputs": [],
   "source": []
  },
  {
   "cell_type": "markdown",
   "id": "30003e2a",
   "metadata": {},
   "source": [
    "The claims by day are uniform."
   ]
  },
  {
   "cell_type": "code",
   "execution_count": null,
   "id": "b471ec70",
   "metadata": {
    "ExecuteTime": {
     "end_time": "2023-10-24T19:46:09.509664Z",
     "start_time": "2023-10-24T19:46:09.503267Z"
    }
   },
   "outputs": [],
   "source": [
    "# compute total target column aggregated month rounded to two decimals and then reorder the index of the resulting\n",
    "# pandas series using .reindex(index=list_of_correct_values)\n",
    "correct_months_order = ['January', 'February', 'March', 'April', 'May', 'June', 'July', 'August', 'September', 'October', 'November', 'December']\n",
    "month_analysis = time_df.groupby('month').total_claim_amount.sum().round(2).reindex(correct_months_order)"
   ]
  },
  {
   "cell_type": "code",
   "execution_count": null,
   "id": "b0b244d4",
   "metadata": {
    "ExecuteTime": {
     "end_time": "2023-10-24T19:46:11.420367Z",
     "start_time": "2023-10-24T19:46:11.170880Z"
    },
    "scrolled": true
   },
   "outputs": [],
   "source": [
    "#size of the plot\n",
    "plt.figure(figsize=(12, 6))\n",
    "\n",
    "#bar plot\n",
    "sns.barplot(x=month_analysis.index, y=month_analysis.values)\n",
    "\n",
    "# Giving the plot a title and labels for clarity\n",
    "plt.title('Total Claim Amount by Month')\n",
    "plt.ylabel('Total Claim Amount')\n",
    "plt.xlabel('Month')\n",
    "\n",
    "# Rotating the month names for better visibility\n",
    "plt.xticks(rotation=45)\n",
    "\n",
    "# Displaying the plot\n",
    "plt.show()\n"
   ]
  },
  {
   "cell_type": "markdown",
   "id": "2b448df8",
   "metadata": {},
   "source": [
    "monthly analysis is not so interesting because we only have 2 months of data which is too small a set to extrapolate trends or good analysis."
   ]
  },
  {
   "cell_type": "code",
   "execution_count": null,
   "id": "62ec8640",
   "metadata": {
    "ExecuteTime": {
     "end_time": "2023-10-24T19:47:10.746506Z",
     "start_time": "2023-10-24T19:47:10.702623Z"
    }
   },
   "outputs": [],
   "source": [
    "# function to remove outliers\n",
    "\n",
    "def remove_outliers(df, col, thr=3):\n",
    "  \"\"\"Remove outliers from a DataFrame column based on IQR.\n",
    "\n",
    "  input:\n",
    "    df: pandas DataFrame.\n",
    "    col: column name to remove outliers from.\n",
    "    thr: threshold multiplier for IQR.\n",
    "\n",
    "  output:\n",
    "       pandas DataFrame with the outliers removed.\n",
    "  \"\"\"\n",
    "\n",
    "  q1 = df[col].quantile(0.25)\n",
    "  q3 = df[col].quantile(0.75)\n",
    "  iqr = q3 - q1\n",
    "  lower_limit = q1 - thr * iqr\n",
    "  upper_limit = q3 + thr * iqr\n",
    "  return df.loc[(df[col] >= lower_limit) & (df[col] <= upper_limit)]\n",
    "\n",
    "# remove outliers from all numeric columns in the df\n",
    "continuous_clean_df = data.select_dtypes(include=[np.number])\n",
    "for col in continuous_clean_df.columns:\n",
    "  continuous_clean_df = remove_outliers(continuous_clean_df, col)"
   ]
  },
  {
   "cell_type": "code",
   "execution_count": null,
   "id": "29093211",
   "metadata": {
    "ExecuteTime": {
     "end_time": "2023-10-24T19:52:16.810016Z",
     "start_time": "2023-10-24T19:52:16.795678Z"
    },
    "scrolled": false
   },
   "outputs": [],
   "source": [
    "display(continuous_clean_df)\n"
   ]
  },
  {
   "cell_type": "markdown",
   "id": "0fb039ec",
   "metadata": {},
   "source": [
    "15. Concatenate the continuous_cleaned_df, discrete_df, categorical_df, and the relevant column of time_df. After removing outliers the continuous_cleaned dataframe will have fewer rows (when you concat the individual dataframes using pd.concat()) the resulting dataframe will have NaN's because of the different sizes of each dataframe. Use pd.dropna() and .reset_index() to fix the final dataframe."
   ]
  },
  {
   "cell_type": "markdown",
   "id": "6b75ffe1",
   "metadata": {},
   "source": [
    "The instructions above make no sense to me as we did not generate a 'discrete_df' or a 'categorical_df' so the code underneath will not work."
   ]
  },
  {
   "cell_type": "code",
   "execution_count": null,
   "id": "7282d3cc",
   "metadata": {
    "ExecuteTime": {
     "end_time": "2023-10-24T20:09:03.565246Z",
     "start_time": "2023-10-24T20:09:03.538362Z"
    }
   },
   "outputs": [],
   "source": [
    "final_df = pd.concat([continuous_clean_df, discrete_df, categorical_df, time_df], axis=1).dropna().reset_index(drop=True)\n",
    "\n",
    "# Reorder columns\n",
    "columns_order = [col for col in final_df.columns if col != 'total_claim_amount'] + ['total_claim_amount']\n",
    "final_df = final_df[columns_order]"
   ]
  },
  {
   "cell_type": "code",
   "execution_count": null,
   "id": "b6a706c6",
   "metadata": {},
   "outputs": [],
   "source": []
  },
  {
   "cell_type": "code",
   "execution_count": null,
   "id": "94e7b6ce",
   "metadata": {},
   "outputs": [],
   "source": []
  },
  {
   "cell_type": "code",
   "execution_count": null,
   "id": "3b26bb23",
   "metadata": {
    "ExecuteTime": {
     "end_time": "2023-10-24T19:56:26.672412Z",
     "start_time": "2023-10-24T19:56:22.850798Z"
    }
   },
   "outputs": [],
   "source": []
  },
  {
   "cell_type": "code",
   "execution_count": null,
   "id": "a95051df",
   "metadata": {},
   "outputs": [],
   "source": []
  }
 ],
 "metadata": {
  "kernelspec": {
   "display_name": "Python 3 (ipykernel)",
   "language": "python",
   "name": "python3"
  },
  "language_info": {
   "codemirror_mode": {
    "name": "ipython",
    "version": 3
   },
   "file_extension": ".py",
   "mimetype": "text/x-python",
   "name": "python",
   "nbconvert_exporter": "python",
   "pygments_lexer": "ipython3",
   "version": "3.11.4"
  }
 },
 "nbformat": 4,
 "nbformat_minor": 5
}
